{
 "cells": [
  {
   "cell_type": "markdown",
   "id": "185f030e",
   "metadata": {},
   "source": "# NLTK Aufgaben 17–29 "
  },
  {
   "cell_type": "code",
   "id": "14900f5a",
   "metadata": {
    "ExecuteTime": {
     "end_time": "2025-07-18T19:19:25.384985Z",
     "start_time": "2025-07-18T19:19:13.496629Z"
    }
   },
   "source": [
    "import nltk\n",
    "from nltk.book import *\n",
    "from nltk import FreqDist\n",
    "from itertools import chain\n",
    "nltk.download('book')"
   ],
   "outputs": [
    {
     "name": "stdout",
     "output_type": "stream",
     "text": [
      "*** Introductory Examples for the NLTK Book ***\n",
      "Loading text1, ..., text9 and sent1, ..., sent9\n",
      "Type the name of the text or sentence to view it.\n",
      "Type: 'texts()' or 'sents()' to list the materials.\n",
      "text1: Moby Dick by Herman Melville 1851\n",
      "text2: Sense and Sensibility by Jane Austen 1811\n",
      "text3: The Book of Genesis\n",
      "text4: Inaugural Address Corpus\n",
      "text5: Chat Corpus\n",
      "text6: Monty Python and the Holy Grail\n",
      "text7: Wall Street Journal\n",
      "text8: Personals Corpus\n",
      "text9: The Man Who Was Thursday by G . K . Chesterton 1908\n"
     ]
    },
    {
     "name": "stderr",
     "output_type": "stream",
     "text": [
      "[nltk_data] Downloading collection 'book'\n",
      "[nltk_data]    | \n",
      "[nltk_data]    | Downloading package abc to\n",
      "[nltk_data]    |     C:\\Users\\Jonas\\AppData\\Roaming\\nltk_data...\n",
      "[nltk_data]    |   Package abc is already up-to-date!\n",
      "[nltk_data]    | Downloading package brown to\n",
      "[nltk_data]    |     C:\\Users\\Jonas\\AppData\\Roaming\\nltk_data...\n",
      "[nltk_data]    |   Package brown is already up-to-date!\n",
      "[nltk_data]    | Downloading package chat80 to\n",
      "[nltk_data]    |     C:\\Users\\Jonas\\AppData\\Roaming\\nltk_data...\n",
      "[nltk_data]    |   Package chat80 is already up-to-date!\n",
      "[nltk_data]    | Downloading package cmudict to\n",
      "[nltk_data]    |     C:\\Users\\Jonas\\AppData\\Roaming\\nltk_data...\n",
      "[nltk_data]    |   Package cmudict is already up-to-date!\n",
      "[nltk_data]    | Downloading package conll2000 to\n",
      "[nltk_data]    |     C:\\Users\\Jonas\\AppData\\Roaming\\nltk_data...\n",
      "[nltk_data]    |   Package conll2000 is already up-to-date!\n",
      "[nltk_data]    | Downloading package conll2002 to\n",
      "[nltk_data]    |     C:\\Users\\Jonas\\AppData\\Roaming\\nltk_data...\n",
      "[nltk_data]    |   Package conll2002 is already up-to-date!\n",
      "[nltk_data]    | Downloading package dependency_treebank to\n",
      "[nltk_data]    |     C:\\Users\\Jonas\\AppData\\Roaming\\nltk_data...\n",
      "[nltk_data]    |   Package dependency_treebank is already up-to-date!\n",
      "[nltk_data]    | Downloading package genesis to\n",
      "[nltk_data]    |     C:\\Users\\Jonas\\AppData\\Roaming\\nltk_data...\n",
      "[nltk_data]    |   Package genesis is already up-to-date!\n",
      "[nltk_data]    | Downloading package gutenberg to\n",
      "[nltk_data]    |     C:\\Users\\Jonas\\AppData\\Roaming\\nltk_data...\n",
      "[nltk_data]    |   Package gutenberg is already up-to-date!\n",
      "[nltk_data]    | Downloading package ieer to\n",
      "[nltk_data]    |     C:\\Users\\Jonas\\AppData\\Roaming\\nltk_data...\n",
      "[nltk_data]    |   Package ieer is already up-to-date!\n",
      "[nltk_data]    | Downloading package inaugural to\n",
      "[nltk_data]    |     C:\\Users\\Jonas\\AppData\\Roaming\\nltk_data...\n",
      "[nltk_data]    |   Package inaugural is already up-to-date!\n",
      "[nltk_data]    | Downloading package movie_reviews to\n",
      "[nltk_data]    |     C:\\Users\\Jonas\\AppData\\Roaming\\nltk_data...\n",
      "[nltk_data]    |   Package movie_reviews is already up-to-date!\n",
      "[nltk_data]    | Downloading package nps_chat to\n",
      "[nltk_data]    |     C:\\Users\\Jonas\\AppData\\Roaming\\nltk_data...\n",
      "[nltk_data]    |   Package nps_chat is already up-to-date!\n",
      "[nltk_data]    | Downloading package names to\n",
      "[nltk_data]    |     C:\\Users\\Jonas\\AppData\\Roaming\\nltk_data...\n",
      "[nltk_data]    |   Package names is already up-to-date!\n",
      "[nltk_data]    | Downloading package ppattach to\n",
      "[nltk_data]    |     C:\\Users\\Jonas\\AppData\\Roaming\\nltk_data...\n",
      "[nltk_data]    |   Package ppattach is already up-to-date!\n",
      "[nltk_data]    | Downloading package reuters to\n",
      "[nltk_data]    |     C:\\Users\\Jonas\\AppData\\Roaming\\nltk_data...\n",
      "[nltk_data]    |   Package reuters is already up-to-date!\n",
      "[nltk_data]    | Downloading package senseval to\n",
      "[nltk_data]    |     C:\\Users\\Jonas\\AppData\\Roaming\\nltk_data...\n",
      "[nltk_data]    |   Package senseval is already up-to-date!\n",
      "[nltk_data]    | Downloading package state_union to\n",
      "[nltk_data]    |     C:\\Users\\Jonas\\AppData\\Roaming\\nltk_data...\n",
      "[nltk_data]    |   Package state_union is already up-to-date!\n",
      "[nltk_data]    | Downloading package stopwords to\n",
      "[nltk_data]    |     C:\\Users\\Jonas\\AppData\\Roaming\\nltk_data...\n",
      "[nltk_data]    |   Package stopwords is already up-to-date!\n",
      "[nltk_data]    | Downloading package swadesh to\n",
      "[nltk_data]    |     C:\\Users\\Jonas\\AppData\\Roaming\\nltk_data...\n",
      "[nltk_data]    |   Package swadesh is already up-to-date!\n",
      "[nltk_data]    | Downloading package timit to\n",
      "[nltk_data]    |     C:\\Users\\Jonas\\AppData\\Roaming\\nltk_data...\n",
      "[nltk_data]    |   Package timit is already up-to-date!\n",
      "[nltk_data]    | Downloading package treebank to\n",
      "[nltk_data]    |     C:\\Users\\Jonas\\AppData\\Roaming\\nltk_data...\n",
      "[nltk_data]    |   Package treebank is already up-to-date!\n",
      "[nltk_data]    | Downloading package toolbox to\n",
      "[nltk_data]    |     C:\\Users\\Jonas\\AppData\\Roaming\\nltk_data...\n",
      "[nltk_data]    |   Package toolbox is already up-to-date!\n",
      "[nltk_data]    | Downloading package udhr to\n",
      "[nltk_data]    |     C:\\Users\\Jonas\\AppData\\Roaming\\nltk_data...\n",
      "[nltk_data]    |   Package udhr is already up-to-date!\n",
      "[nltk_data]    | Downloading package udhr2 to\n",
      "[nltk_data]    |     C:\\Users\\Jonas\\AppData\\Roaming\\nltk_data...\n",
      "[nltk_data]    |   Package udhr2 is already up-to-date!\n",
      "[nltk_data]    | Downloading package unicode_samples to\n",
      "[nltk_data]    |     C:\\Users\\Jonas\\AppData\\Roaming\\nltk_data...\n",
      "[nltk_data]    |   Package unicode_samples is already up-to-date!\n",
      "[nltk_data]    | Downloading package webtext to\n",
      "[nltk_data]    |     C:\\Users\\Jonas\\AppData\\Roaming\\nltk_data...\n",
      "[nltk_data]    |   Package webtext is already up-to-date!\n",
      "[nltk_data]    | Downloading package wordnet to\n",
      "[nltk_data]    |     C:\\Users\\Jonas\\AppData\\Roaming\\nltk_data...\n",
      "[nltk_data]    |   Package wordnet is already up-to-date!\n",
      "[nltk_data]    | Downloading package wordnet_ic to\n",
      "[nltk_data]    |     C:\\Users\\Jonas\\AppData\\Roaming\\nltk_data...\n",
      "[nltk_data]    |   Package wordnet_ic is already up-to-date!\n",
      "[nltk_data]    | Downloading package words to\n",
      "[nltk_data]    |     C:\\Users\\Jonas\\AppData\\Roaming\\nltk_data...\n",
      "[nltk_data]    |   Package words is already up-to-date!\n",
      "[nltk_data]    | Downloading package maxent_treebank_pos_tagger to\n",
      "[nltk_data]    |     C:\\Users\\Jonas\\AppData\\Roaming\\nltk_data...\n",
      "[nltk_data]    |   Package maxent_treebank_pos_tagger is already up-\n",
      "[nltk_data]    |       to-date!\n",
      "[nltk_data]    | Downloading package maxent_ne_chunker to\n",
      "[nltk_data]    |     C:\\Users\\Jonas\\AppData\\Roaming\\nltk_data...\n",
      "[nltk_data]    |   Package maxent_ne_chunker is already up-to-date!\n",
      "[nltk_data]    | Downloading package universal_tagset to\n",
      "[nltk_data]    |     C:\\Users\\Jonas\\AppData\\Roaming\\nltk_data...\n",
      "[nltk_data]    |   Package universal_tagset is already up-to-date!\n",
      "[nltk_data]    | Downloading package punkt to\n",
      "[nltk_data]    |     C:\\Users\\Jonas\\AppData\\Roaming\\nltk_data...\n",
      "[nltk_data]    |   Package punkt is already up-to-date!\n",
      "[nltk_data]    | Downloading package book_grammars to\n",
      "[nltk_data]    |     C:\\Users\\Jonas\\AppData\\Roaming\\nltk_data...\n",
      "[nltk_data]    |   Package book_grammars is already up-to-date!\n",
      "[nltk_data]    | Downloading package city_database to\n",
      "[nltk_data]    |     C:\\Users\\Jonas\\AppData\\Roaming\\nltk_data...\n",
      "[nltk_data]    |   Package city_database is already up-to-date!\n",
      "[nltk_data]    | Downloading package tagsets to\n",
      "[nltk_data]    |     C:\\Users\\Jonas\\AppData\\Roaming\\nltk_data...\n",
      "[nltk_data]    |   Package tagsets is already up-to-date!\n",
      "[nltk_data]    | Downloading package panlex_swadesh to\n",
      "[nltk_data]    |     C:\\Users\\Jonas\\AppData\\Roaming\\nltk_data...\n",
      "[nltk_data]    |   Package panlex_swadesh is already up-to-date!\n",
      "[nltk_data]    | Downloading package averaged_perceptron_tagger to\n",
      "[nltk_data]    |     C:\\Users\\Jonas\\AppData\\Roaming\\nltk_data...\n",
      "[nltk_data]    |   Package averaged_perceptron_tagger is already up-\n",
      "[nltk_data]    |       to-date!\n",
      "[nltk_data]    | \n",
      "[nltk_data]  Done downloading collection book\n"
     ]
    },
    {
     "data": {
      "text/plain": [
       "True"
      ]
     },
     "execution_count": 1,
     "metadata": {},
     "output_type": "execute_result"
    }
   ],
   "execution_count": 1
  },
  {
   "cell_type": "markdown",
   "id": "f453097b",
   "metadata": {},
   "source": "## Aufgabe 17 "
  },
  {
   "cell_type": "code",
   "id": "d8d139ce",
   "metadata": {
    "ExecuteTime": {
     "end_time": "2025-07-18T19:19:52.839412Z",
     "start_time": "2025-07-18T19:19:52.835180Z"
    }
   },
   "source": [
    "idx = text9.index('sunset')\n",
    "\n",
    "start = idx\n",
    "while start > 0 and text9[start] != '.':\n",
    "    start -= 1\n",
    "\n",
    "\n",
    "end = idx\n",
    "while end < len(text9) and text9[end] != '.':\n",
    "    end += 1\n",
    "\n",
    "sentence = text9[start+1:end+1]\n",
    "' '.join(sentence)"
   ],
   "outputs": [
    {
     "data": {
      "text/plain": [
       "'CHAPTER I THE TWO POETS OF SAFFRON PARK THE suburb of Saffron Park lay on the sunset side of London , as red and ragged as a cloud of sunset .'"
      ]
     },
     "execution_count": 3,
     "metadata": {},
     "output_type": "execute_result"
    }
   ],
   "execution_count": 3
  },
  {
   "cell_type": "markdown",
   "id": "63477a95",
   "metadata": {},
   "source": "## Aufgabe 18 "
  },
  {
   "cell_type": "code",
   "id": "2e7ea6a2",
   "metadata": {
    "ExecuteTime": {
     "end_time": "2025-06-22T14:54:55.152999Z",
     "start_time": "2025-06-22T14:54:55.148573Z"
    }
   },
   "source": [
    "alle_sents = [sent1, sent2, sent3, sent4, sent5, sent6, sent7, sent8]\n",
    "vocab = sorted(set(chain.from_iterable(alle_sents)))\n",
    "vocab[:10]"
   ],
   "outputs": [
    {
     "data": {
      "text/plain": [
       "['!', ',', '-', '.', '1', '25', '29', '61', ':', 'ARTHUR']"
      ]
     },
     "execution_count": 3,
     "metadata": {},
     "output_type": "execute_result"
    }
   ],
   "execution_count": 3
  },
  {
   "cell_type": "markdown",
   "id": "7b39d2cb",
   "metadata": {},
   "source": "## Aufgabe 19 "
  },
  {
   "cell_type": "code",
   "id": "5b30c7ba",
   "metadata": {
    "ExecuteTime": {
     "end_time": "2025-07-18T19:20:04.799566Z",
     "start_time": "2025-07-18T19:20:04.743522Z"
    }
   },
   "source": [
    "var1 = len(set(w.lower() for w in text1))\n",
    "var2 = len(set(w for w in text1))\n",
    "var1, var2  "
   ],
   "outputs": [
    {
     "data": {
      "text/plain": [
       "(17231, 19317)"
      ]
     },
     "execution_count": 4,
     "metadata": {},
     "output_type": "execute_result"
    }
   ],
   "execution_count": 4
  },
  {
   "cell_type": "markdown",
   "id": "0005d3bd",
   "metadata": {},
   "source": "## Aufgabe 20 "
  },
  {
   "cell_type": "code",
   "id": "e9ef9adb",
   "metadata": {
    "ExecuteTime": {
     "end_time": "2025-07-18T19:20:06.958405Z",
     "start_time": "2025-07-18T19:20:06.954505Z"
    }
   },
   "source": [
    "samples = ['German', 'UwU', '123', '#']\n",
    "[(w, w.isupper(), not w.islower()) for w in samples]"
   ],
   "outputs": [
    {
     "data": {
      "text/plain": [
       "[('German', False, True),\n",
       " ('UwU', False, True),\n",
       " ('123', False, True),\n",
       " ('#', False, True)]"
      ]
     },
     "execution_count": 5,
     "metadata": {},
     "output_type": "execute_result"
    }
   ],
   "execution_count": 5
  },
  {
   "cell_type": "markdown",
   "id": "de538404",
   "metadata": {},
   "source": "## Aufgabe 21 "
  },
  {
   "cell_type": "code",
   "id": "1a9a5a07",
   "metadata": {
    "ExecuteTime": {
     "end_time": "2025-06-22T14:55:19.138185Z",
     "start_time": "2025-06-22T14:55:19.134685Z"
    }
   },
   "source": [
    "text2[-2:]"
   ],
   "outputs": [
    {
     "data": {
      "text/plain": [
       "['THE', 'END']"
      ]
     },
     "execution_count": 6,
     "metadata": {},
     "output_type": "execute_result"
    }
   ],
   "execution_count": 6
  },
  {
   "cell_type": "markdown",
   "id": "176e2e46",
   "metadata": {},
   "source": "## Aufgabe 22"
  },
  {
   "cell_type": "code",
   "id": "edf4063f",
   "metadata": {
    "ExecuteTime": {
     "end_time": "2025-06-22T14:55:22.948558Z",
     "start_time": "2025-06-22T14:55:22.938366Z"
    }
   },
   "source": [
    "vierer = [w for w in text5 if len(w) == 4 and w.isalpha()]\n",
    "fd = FreqDist(vierer)\n",
    "fd.most_common(15)"
   ],
   "outputs": [
    {
     "data": {
      "text/plain": [
       "[('JOIN', 1021),\n",
       " ('PART', 1016),\n",
       " ('that', 274),\n",
       " ('what', 183),\n",
       " ('here', 181),\n",
       " ('have', 164),\n",
       " ('like', 156),\n",
       " ('with', 152),\n",
       " ('chat', 142),\n",
       " ('your', 137),\n",
       " ('good', 130),\n",
       " ('just', 125),\n",
       " ('lmao', 107),\n",
       " ('know', 103),\n",
       " ('room', 98)]"
      ]
     },
     "execution_count": 7,
     "metadata": {},
     "output_type": "execute_result"
    }
   ],
   "execution_count": 7
  },
  {
   "cell_type": "markdown",
   "id": "29a00bb4",
   "metadata": {},
   "source": "## Aufgabe 23 "
  },
  {
   "cell_type": "code",
   "id": "b00cf500",
   "metadata": {
    "ExecuteTime": {
     "end_time": "2025-06-22T14:55:27.034700Z",
     "start_time": "2025-06-22T14:55:27.029855Z"
    }
   },
   "source": [
    "grossworte = list(filter(lambda x: x.isupper() and x.isalpha(), text6))\n",
    "grossworte[:10]"
   ],
   "outputs": [
    {
     "data": {
      "text/plain": [
       "['SCENE',\n",
       " 'KING',\n",
       " 'ARTHUR',\n",
       " 'SOLDIER',\n",
       " 'ARTHUR',\n",
       " 'I',\n",
       " 'SOLDIER',\n",
       " 'ARTHUR',\n",
       " 'I',\n",
       " 'I']"
      ]
     },
     "execution_count": 8,
     "metadata": {},
     "output_type": "execute_result"
    }
   ],
   "execution_count": 8
  },
  {
   "cell_type": "markdown",
   "id": "b7ae1b99",
   "metadata": {},
   "source": "## Aufgabe 24 "
  },
  {
   "cell_type": "code",
   "id": "c6659f3d",
   "metadata": {
    "ExecuteTime": {
     "end_time": "2025-07-18T19:20:22.981429Z",
     "start_time": "2025-07-18T19:20:22.972359Z"
    }
   },
   "source": [
    "liste = text6\n",
    "\n",
    "ending_ise = [w for w in liste if w.endswith('ise')]\n",
    "contains_z = [w for w in liste if 'z' in w.lower()]\n",
    "with_pt = [w for w in liste if 'pt' in w.lower()]\n",
    "capitalized = [w for w in liste if w.istitle() and w[1:].islower()]\n",
    "\n",
    "ending_ise[:3], contains_z[:3], with_pt[:3], capitalized[:3]"
   ],
   "outputs": [
    {
     "data": {
      "text/plain": [
       "(['wise', 'wise', 'apologise'],\n",
       " ['zone', 'amazes', 'Fetchez'],\n",
       " ['empty', 'aptly', 'Thpppppt'],\n",
       " ['Whoa', 'Halt', 'Who'])"
      ]
     },
     "execution_count": 6,
     "metadata": {},
     "output_type": "execute_result"
    }
   ],
   "execution_count": 6
  },
  {
   "cell_type": "markdown",
   "id": "719076f0",
   "metadata": {},
   "source": "## Aufgabe 25 "
  },
  {
   "cell_type": "code",
   "id": "322e4822",
   "metadata": {
    "ExecuteTime": {
     "end_time": "2025-07-18T19:20:24.847216Z",
     "start_time": "2025-07-18T19:20:24.843903Z"
    }
   },
   "source": [
    "sent = ['she', 'sells', 'sea', 'shells', 'by', 'the', 'sea', 'shore']\n",
    "sh_list = [w for w in sent if w.startswith('sh')]\n",
    "longer_than_4 = list(filter(lambda x: len(x) > 4, sent))\n",
    "sh_list, longer_than_4"
   ],
   "outputs": [
    {
     "data": {
      "text/plain": [
       "(['she', 'shells', 'shore'], ['sells', 'shells', 'shore'])"
      ]
     },
     "execution_count": 7,
     "metadata": {},
     "output_type": "execute_result"
    }
   ],
   "execution_count": 7
  },
  {
   "cell_type": "markdown",
   "id": "9f799488",
   "metadata": {},
   "source": "## Aufgabe 26 "
  },
  {
   "cell_type": "code",
   "id": "03a7c398",
   "metadata": {
    "ExecuteTime": {
     "end_time": "2025-07-18T19:20:30.283349Z",
     "start_time": "2025-07-18T19:20:30.266074Z"
    }
   },
   "source": [
    "gesamtzeichen = sum(map(len, text1))\n",
    "anzahl_worte = len(text1)\n",
    "durchschnitt = round(gesamtzeichen / anzahl_worte, 2)\n",
    "durchschnitt"
   ],
   "outputs": [
    {
     "data": {
      "text/plain": [
       "3.83"
      ]
     },
     "execution_count": 8,
     "metadata": {},
     "output_type": "execute_result"
    }
   ],
   "execution_count": 8
  },
  {
   "cell_type": "markdown",
   "id": "7b6ddd2e",
   "metadata": {},
   "source": "## Aufgabe 27 "
  },
  {
   "cell_type": "code",
   "id": "32ea4516",
   "metadata": {
    "ExecuteTime": {
     "end_time": "2025-07-18T19:20:32.206906Z",
     "start_time": "2025-07-18T19:20:32.193458Z"
    }
   },
   "source": [
    "def vocab_size(text):\n",
    "    return len(set(text))\n",
    "\n",
    "vocab_size(text2)"
   ],
   "outputs": [
    {
     "data": {
      "text/plain": [
       "6833"
      ]
     },
     "execution_count": 9,
     "metadata": {},
     "output_type": "execute_result"
    }
   ],
   "execution_count": 9
  },
  {
   "cell_type": "markdown",
   "id": "62f3ba11",
   "metadata": {},
   "source": "## Aufgabe 28 "
  },
  {
   "cell_type": "code",
   "id": "3a22c7fa",
   "metadata": {
    "ExecuteTime": {
     "end_time": "2025-07-18T19:20:33.806005Z",
     "start_time": "2025-07-18T19:20:33.800468Z"
    }
   },
   "source": [
    "def percent(word, text):\n",
    "    freq = text.count(word)\n",
    "    return round(freq / len(text) * 100, 3)\n",
    "\n",
    "percent('whale', text1)"
   ],
   "outputs": [
    {
     "data": {
      "text/plain": [
       "0.347"
      ]
     },
     "execution_count": 10,
     "metadata": {},
     "output_type": "execute_result"
    }
   ],
   "execution_count": 10
  },
  {
   "cell_type": "markdown",
   "id": "f87ebbce",
   "metadata": {},
   "source": "## Aufgabe 29 "
  },
  {
   "cell_type": "code",
   "id": "336f3ff7",
   "metadata": {
    "ExecuteTime": {
     "end_time": "2025-07-18T19:20:35.500483Z",
     "start_time": "2025-07-18T19:20:35.480517Z"
    }
   },
   "source": [
    "small_set = set(sent3)\n",
    "big_set = set(text1)\n",
    "small_set.issubset(big_set)"
   ],
   "outputs": [
    {
     "data": {
      "text/plain": [
       "True"
      ]
     },
     "execution_count": 11,
     "metadata": {},
     "output_type": "execute_result"
    }
   ],
   "execution_count": 11
  }
 ],
 "metadata": {
  "kernelspec": {
   "name": "python3",
   "language": "python",
   "display_name": "Python 3 (ipykernel)"
  }
 },
 "nbformat": 4,
 "nbformat_minor": 5
}
