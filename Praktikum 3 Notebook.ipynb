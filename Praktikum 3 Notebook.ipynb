{
 "cells": [
  {
   "metadata": {},
   "cell_type": "markdown",
   "source": [
    "## 🅰 Aufgabe a) Stopwort-Filterung nach Genre\n",
    "\n"
   ],
   "id": "f874537a8d21c21c"
  },
  {
   "cell_type": "code",
   "id": "initial_id",
   "metadata": {
    "collapsed": true,
    "ExecuteTime": {
     "end_time": "2025-07-18T19:27:57.169694Z",
     "start_time": "2025-07-18T19:27:49.938705Z"
    }
   },
   "source": [
    "from nltk.corpus import brown\n",
    "from nltk.corpus import stopwords\n",
    "from collections import Counter\n",
    "import nltk\n",
    "nltk.download('stopwords')\n",
    "\n",
    "genres = ['news', 'romance', 'hobbies']\n",
    "stop_words = set(stopwords.words('english'))\n",
    "\n",
    "for genre in genres:\n",
    "    words = brown.words(categories=genre)\n",
    "    total_words = len(words)\n",
    "    filtered = [w.lower() for w in words if w.lower() not in stop_words and w.isalpha()]\n",
    "    print(f\"\\nGenre: {genre}\")\n",
    "    print(f\"- Original: {total_words} Wörter\")\n",
    "    print(f\"- Nach Stopword-Filter: {len(filtered)} Wörter\")\n",
    "    \n",
    "    freq = Counter(filtered)\n",
    "    print(f\"- Häufigste genretypische Wörter: {freq.most_common(5)}\")\n"
   ],
   "outputs": [
    {
     "name": "stderr",
     "output_type": "stream",
     "text": [
      "[nltk_data] Downloading package stopwords to\n",
      "[nltk_data]     C:\\Users\\Jonas\\AppData\\Roaming\\nltk_data...\n",
      "[nltk_data]   Package stopwords is already up-to-date!\n"
     ]
    },
    {
     "name": "stdout",
     "output_type": "stream",
     "text": [
      "\n",
      "Genre: news\n",
      "- Original: 100554 Wörter\n",
      "- Nach Stopword-Filter: 46867 Wörter\n",
      "- Häufigste genretypische Wörter: [('said', 406), ('would', 246), ('new', 241), ('one', 213), ('last', 177)]\n",
      "\n",
      "Genre: romance\n",
      "- Original: 70022 Wörter\n",
      "- Nach Stopword-Filter: 27570 Wörter\n",
      "- Häufigste genretypische Wörter: [('said', 331), ('would', 247), ('could', 195), ('like', 189), ('one', 182)]\n",
      "\n",
      "Genre: hobbies\n",
      "- Original: 82345 Wörter\n",
      "- Nach Stopword-Filter: 37688 Wörter\n",
      "- Häufigste genretypische Wörter: [('one', 286), ('new', 149), ('may', 143), ('time', 133), ('first', 126)]\n"
     ]
    }
   ],
   "execution_count": 1
  },
  {
   "metadata": {},
   "cell_type": "markdown",
   "source": [
    "### Häufigste genretypische Wörter pro Genre\n",
    "\n",
    "| Genre   | Wort 1     | Wort 2       | Wort 3       | Wort 4     | Wort 5      |\n",
    "|---------|------------|--------------|--------------|------------|-------------|\n",
    "| news    | said (406) | would (246)  | new (241)    | one (213)  | last (177)  |\n",
    "| romance | said (331) | would (247)  | could (195)  | like (189) | one (182)   |\n",
    "| hobbies | one (286)  | new (149)    | may (143)    | time (133) | first (126) |\n"
   ],
   "id": "eba400cf237d9302"
  },
  {
   "metadata": {},
   "cell_type": "markdown",
   "source": [
    "## 📊 Analyse der Stopwort-Filterung (Aufgabe a)\n",
    "\n",
    "\n",
    "### 🔢 Vorher-Nachher-Vergleich\n",
    "\n",
    "| Genre     | Originale Wortanzahl | Nach Stopwort-Filterung | Reduktion (%)   |\n",
    "|-----------|----------------------|--------------------------|------------------|\n",
    "| news      | 100.554              | 46.867                   | ca. 53%          |\n",
    "| romance   | 70.022               | 27.570                   | ca. 61%          |\n",
    "| hobbies   | 82.345               | 37.688                   | ca. 54%          |\n",
    "\n",
    "\n"
   ],
   "id": "4d135b5c97a6f38f"
  },
  {
   "metadata": {},
   "cell_type": "markdown",
   "source": "Aufgabe b) TF-IDF-Werte bestimmen\n",
   "id": "fffc987f578120a1"
  },
  {
   "metadata": {
    "ExecuteTime": {
     "end_time": "2025-06-22T14:57:56.744382Z",
     "start_time": "2025-06-22T14:57:56.479879Z"
    }
   },
   "cell_type": "code",
   "source": [
    "from sklearn.feature_extraction.text import TfidfVectorizer\n",
    "\n",
    "\n",
    "genre_docs = [' '.join(brown.words(categories=genre)) for genre in genres]\n",
    "\n",
    "vectorizer = TfidfVectorizer(stop_words='english', lowercase=True, max_df=0.9, min_df=2)\n",
    "X = vectorizer.fit_transform(genre_docs)\n",
    "feature_names = vectorizer.get_feature_names_out()\n",
    "\n",
    "import pandas as pd\n",
    "\n",
    "df = pd.DataFrame(X.T.toarray(), index=feature_names, columns=genres)\n",
    "for genre in genres:\n",
    "    print(f\"\\n--- Niedrigste TF-IDF-Werte in '{genre}' ---\")\n",
    "    print(df[genre].sort_values().head(5))\n",
    "    print(f\"\\n--- Höchste TF-IDF-Werte in '{genre}' (typisch!) ---\")\n",
    "    print(df[genre].sort_values(ascending=False).head(5))\n"
   ],
   "id": "21e9c0350b24d831",
   "outputs": [
    {
     "name": "stdout",
     "output_type": "stream",
     "text": [
      "\n",
      "--- Niedrigste TF-IDF-Werte in 'news' ---\n",
      "reasoned       0.0\n",
      "proves         0.0\n",
      "propriety      0.0\n",
      "constantine    0.0\n",
      "constructed    0.0\n",
      "Name: news, dtype: float64\n",
      "\n",
      "--- Höchste TF-IDF-Werte in 'news' (typisch!) ---\n",
      "000           0.299216\n",
      "kennedy       0.183771\n",
      "committee     0.181415\n",
      "university    0.174347\n",
      "tax           0.164922\n",
      "Name: news, dtype: float64\n",
      "\n",
      "--- Niedrigste TF-IDF-Werte in 'romance' ---\n",
      "000         0.0\n",
      "miami       0.0\n",
      "michigan    0.0\n",
      "mid         0.0\n",
      "midwest     0.0\n",
      "Name: romance, dtype: float64\n",
      "\n",
      "--- Höchste TF-IDF-Werte in 'romance' (typisch!) ---\n",
      "phil    0.274213\n",
      "god     0.184796\n",
      "mike    0.184796\n",
      "hadn    0.178835\n",
      "baby    0.178835\n",
      "Name: romance, dtype: float64\n",
      "\n",
      "--- Niedrigste TF-IDF-Werte in 'hobbies' ---\n",
      "sly         0.0\n",
      "mood        0.0\n",
      "morality    0.0\n",
      "daley       0.0\n",
      "moses       0.0\n",
      "Name: hobbies, dtype: float64\n",
      "\n",
      "--- Höchste TF-IDF-Werte in 'hobbies' (typisch!) ---\n",
      "design     0.190615\n",
      "af         0.171553\n",
      "site       0.149315\n",
      "program    0.139784\n",
      "000        0.139784\n",
      "Name: hobbies, dtype: float64\n"
     ]
    }
   ],
   "execution_count": 2
  }
 ],
 "metadata": {
  "kernelspec": {
   "display_name": "Python 3",
   "language": "python",
   "name": "python3"
  },
  "language_info": {
   "codemirror_mode": {
    "name": "ipython",
    "version": 2
   },
   "file_extension": ".py",
   "mimetype": "text/x-python",
   "name": "python",
   "nbconvert_exporter": "python",
   "pygments_lexer": "ipython2",
   "version": "2.7.6"
  }
 },
 "nbformat": 4,
 "nbformat_minor": 5
}
